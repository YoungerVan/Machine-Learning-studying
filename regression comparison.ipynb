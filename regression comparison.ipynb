{
 "cells": [
  {
   "cell_type": "code",
   "execution_count": 63,
   "metadata": {},
   "outputs": [],
   "source": [
    "from sklearn import datasets\n",
    "import numpy as np\n",
    "from sklearn.linear_model import LinearRegression,Ridge,Lasso\n",
    "from sklearn.model_selection import GridSearchCV,train_test_split\n",
    "import matplotlib.pyplot as plt"
   ]
  },
  {
   "cell_type": "markdown",
   "metadata": {},
   "source": [
    "# 1.数据导入"
   ]
  },
  {
   "cell_type": "code",
   "execution_count": 34,
   "metadata": {
    "collapsed": true
   },
   "outputs": [
    {
     "name": "stdout",
     "output_type": "stream",
     "text": [
      "(442, 10)\n",
      "(442,)\n",
      "[[ 0.03807591  0.05068012  0.06169621 ... -0.00259226  0.01990842\n",
      "  -0.01764613]\n",
      " [-0.00188202 -0.04464164 -0.05147406 ... -0.03949338 -0.06832974\n",
      "  -0.09220405]\n",
      " [ 0.08529891  0.05068012  0.04445121 ... -0.00259226  0.00286377\n",
      "  -0.02593034]\n",
      " ...\n",
      " [ 0.04170844  0.05068012 -0.01590626 ... -0.01107952 -0.04687948\n",
      "   0.01549073]\n",
      " [-0.04547248 -0.04464164  0.03906215 ...  0.02655962  0.04452837\n",
      "  -0.02593034]\n",
      " [-0.04547248 -0.04464164 -0.0730303  ... -0.03949338 -0.00421986\n",
      "   0.00306441]] [151.  75. 141. 206. 135.  97. 138.  63. 110. 310. 101.  69. 179. 185.\n",
      " 118. 171. 166. 144.  97. 168.  68.  49.  68. 245. 184. 202. 137.  85.\n",
      " 131. 283. 129.  59. 341.  87.  65. 102. 265. 276. 252.  90. 100.  55.\n",
      "  61.  92. 259.  53. 190. 142.  75. 142. 155. 225.  59. 104. 182. 128.\n",
      "  52.  37. 170. 170.  61. 144.  52. 128.  71. 163. 150.  97. 160. 178.\n",
      "  48. 270. 202. 111.  85.  42. 170. 200. 252. 113. 143.  51.  52. 210.\n",
      "  65. 141.  55. 134.  42. 111.  98. 164.  48.  96.  90. 162. 150. 279.\n",
      "  92.  83. 128. 102. 302. 198.  95.  53. 134. 144. 232.  81. 104.  59.\n",
      " 246. 297. 258. 229. 275. 281. 179. 200. 200. 173. 180.  84. 121. 161.\n",
      "  99. 109. 115. 268. 274. 158. 107.  83. 103. 272.  85. 280. 336. 281.\n",
      " 118. 317. 235.  60. 174. 259. 178. 128.  96. 126. 288.  88. 292.  71.\n",
      " 197. 186.  25.  84.  96. 195.  53. 217. 172. 131. 214.  59.  70. 220.\n",
      " 268. 152.  47.  74. 295. 101. 151. 127. 237. 225.  81. 151. 107.  64.\n",
      " 138. 185. 265. 101. 137. 143. 141.  79. 292. 178.  91. 116.  86. 122.\n",
      "  72. 129. 142.  90. 158.  39. 196. 222. 277.  99. 196. 202. 155.  77.\n",
      " 191.  70.  73.  49.  65. 263. 248. 296. 214. 185.  78.  93. 252. 150.\n",
      "  77. 208.  77. 108. 160.  53. 220. 154. 259.  90. 246. 124.  67.  72.\n",
      " 257. 262. 275. 177.  71.  47. 187. 125.  78.  51. 258. 215. 303. 243.\n",
      "  91. 150. 310. 153. 346.  63.  89.  50.  39. 103. 308. 116. 145.  74.\n",
      "  45. 115. 264.  87. 202. 127. 182. 241.  66.  94. 283.  64. 102. 200.\n",
      " 265.  94. 230. 181. 156. 233.  60. 219.  80.  68. 332. 248.  84. 200.\n",
      "  55.  85.  89.  31. 129.  83. 275.  65. 198. 236. 253. 124.  44. 172.\n",
      " 114. 142. 109. 180. 144. 163. 147.  97. 220. 190. 109. 191. 122. 230.\n",
      " 242. 248. 249. 192. 131. 237.  78. 135. 244. 199. 270. 164.  72.  96.\n",
      " 306.  91. 214.  95. 216. 263. 178. 113. 200. 139. 139.  88. 148.  88.\n",
      " 243.  71.  77. 109. 272.  60.  54. 221.  90. 311. 281. 182. 321.  58.\n",
      " 262. 206. 233. 242. 123. 167.  63. 197.  71. 168. 140. 217. 121. 235.\n",
      " 245.  40.  52. 104. 132.  88.  69. 219.  72. 201. 110.  51. 277.  63.\n",
      " 118.  69. 273. 258.  43. 198. 242. 232. 175.  93. 168. 275. 293. 281.\n",
      "  72. 140. 189. 181. 209. 136. 261. 113. 131. 174. 257.  55.  84.  42.\n",
      " 146. 212. 233.  91. 111. 152. 120.  67. 310.  94. 183.  66. 173.  72.\n",
      "  49.  64.  48. 178. 104. 132. 220.  57.]\n"
     ]
    }
   ],
   "source": [
    "Feature,label = datasets.load_diabetes(return_X_y=True)\n",
    "print(Feature.shape)\n",
    "print(label.shape)\n",
    "print(Feature,label)"
   ]
  },
  {
   "cell_type": "markdown",
   "metadata": {},
   "source": [
    "# 2.数据标准化"
   ]
  },
  {
   "cell_type": "code",
   "execution_count": 35,
   "metadata": {},
   "outputs": [],
   "source": [
    "Feature=preprocessing.scale(Feature)\n",
    "label=preprocessing.scale(label)"
   ]
  },
  {
   "cell_type": "markdown",
   "metadata": {},
   "source": [
    "# 3.模型构建"
   ]
  },
  {
   "cell_type": "markdown",
   "metadata": {},
   "source": [
    "经过多次调试发现两个需要网格搜索的模型最终得到的最优alpha值差别很大，其中lasso回归经网格搜索后最优alpha值约为0.2左右，而岭回归最优alpha值却较大。"
   ]
  },
  {
   "cell_type": "code",
   "execution_count": 38,
   "metadata": {},
   "outputs": [],
   "source": [
    "feature_train,feature_test,label_train,label_test=train_test_split(Feature,label,test_size=0.3, train_size=0.7)"
   ]
  },
  {
   "cell_type": "code",
   "execution_count": 51,
   "metadata": {},
   "outputs": [
    {
     "name": "stderr",
     "output_type": "stream",
     "text": [
      "C:\\Users\\hp\\anaconda3\\lib\\site-packages\\sklearn\\model_selection\\_validation.py:531: UserWarning: With alpha=0, this algorithm does not converge well. You are advised to use the LinearRegression estimator\n",
      "  estimator.fit(X_train, y_train, **fit_params)\n",
      "C:\\Users\\hp\\anaconda3\\lib\\site-packages\\sklearn\\linear_model\\_coordinate_descent.py:529: UserWarning: Coordinate descent with no regularization may lead to unexpected results and is discouraged.\n",
      "  model = cd_fast.enet_coordinate_descent(\n",
      "C:\\Users\\hp\\anaconda3\\lib\\site-packages\\sklearn\\linear_model\\_coordinate_descent.py:529: ConvergenceWarning: Objective did not converge. You might want to increase the number of iterations. Duality gap: 51.27634328627409, tolerance: 0.022724529407797855\n",
      "  model = cd_fast.enet_coordinate_descent(\n",
      "C:\\Users\\hp\\anaconda3\\lib\\site-packages\\sklearn\\model_selection\\_validation.py:531: UserWarning: With alpha=0, this algorithm does not converge well. You are advised to use the LinearRegression estimator\n",
      "  estimator.fit(X_train, y_train, **fit_params)\n",
      "C:\\Users\\hp\\anaconda3\\lib\\site-packages\\sklearn\\linear_model\\_coordinate_descent.py:529: UserWarning: Coordinate descent with no regularization may lead to unexpected results and is discouraged.\n",
      "  model = cd_fast.enet_coordinate_descent(\n",
      "C:\\Users\\hp\\anaconda3\\lib\\site-packages\\sklearn\\linear_model\\_coordinate_descent.py:529: ConvergenceWarning: Objective did not converge. You might want to increase the number of iterations. Duality gap: 62.84410796720589, tolerance: 0.02396109770883321\n",
      "  model = cd_fast.enet_coordinate_descent(\n",
      "C:\\Users\\hp\\anaconda3\\lib\\site-packages\\sklearn\\model_selection\\_validation.py:531: UserWarning: With alpha=0, this algorithm does not converge well. You are advised to use the LinearRegression estimator\n",
      "  estimator.fit(X_train, y_train, **fit_params)\n",
      "C:\\Users\\hp\\anaconda3\\lib\\site-packages\\sklearn\\linear_model\\_coordinate_descent.py:529: UserWarning: Coordinate descent with no regularization may lead to unexpected results and is discouraged.\n",
      "  model = cd_fast.enet_coordinate_descent(\n",
      "C:\\Users\\hp\\anaconda3\\lib\\site-packages\\sklearn\\linear_model\\_coordinate_descent.py:529: ConvergenceWarning: Objective did not converge. You might want to increase the number of iterations. Duality gap: 55.644384919624684, tolerance: 0.024880786211792898\n",
      "  model = cd_fast.enet_coordinate_descent(\n",
      "C:\\Users\\hp\\anaconda3\\lib\\site-packages\\sklearn\\model_selection\\_validation.py:531: UserWarning: With alpha=0, this algorithm does not converge well. You are advised to use the LinearRegression estimator\n",
      "  estimator.fit(X_train, y_train, **fit_params)\n",
      "C:\\Users\\hp\\anaconda3\\lib\\site-packages\\sklearn\\linear_model\\_coordinate_descent.py:529: UserWarning: Coordinate descent with no regularization may lead to unexpected results and is discouraged.\n",
      "  model = cd_fast.enet_coordinate_descent(\n",
      "C:\\Users\\hp\\anaconda3\\lib\\site-packages\\sklearn\\linear_model\\_coordinate_descent.py:529: ConvergenceWarning: Objective did not converge. You might want to increase the number of iterations. Duality gap: 59.049159119028445, tolerance: 0.025331269384192372\n",
      "  model = cd_fast.enet_coordinate_descent(\n",
      "C:\\Users\\hp\\anaconda3\\lib\\site-packages\\sklearn\\model_selection\\_validation.py:531: UserWarning: With alpha=0, this algorithm does not converge well. You are advised to use the LinearRegression estimator\n",
      "  estimator.fit(X_train, y_train, **fit_params)\n",
      "C:\\Users\\hp\\anaconda3\\lib\\site-packages\\sklearn\\linear_model\\_coordinate_descent.py:529: UserWarning: Coordinate descent with no regularization may lead to unexpected results and is discouraged.\n",
      "  model = cd_fast.enet_coordinate_descent(\n",
      "C:\\Users\\hp\\anaconda3\\lib\\site-packages\\sklearn\\linear_model\\_coordinate_descent.py:529: ConvergenceWarning: Objective did not converge. You might want to increase the number of iterations. Duality gap: 61.24781231991369, tolerance: 0.024101359331276797\n",
      "  model = cd_fast.enet_coordinate_descent(\n"
     ]
    },
    {
     "name": "stdout",
     "output_type": "stream",
     "text": [
      "训练后获得的Ridge Regression和LASSO最优的alpha值分别为28.383838，0.024490\n"
     ]
    }
   ],
   "source": [
    "reg = LinearRegression().fit(feature_train,label_train)\n",
    "ridge =Ridge()\n",
    "lasso =Lasso()\n",
    "alpha_can1 = np.linspace(20,30,100)\n",
    "alpha_can2 = np.linspace(0,0.3,50)#设置进行试验的alpha值的数目\n",
    "ridge_model = GridSearchCV(ridge, param_grid={'alpha': alpha_can1}, cv=5).fit(feature_train,label_train)\n",
    "lasso_model = GridSearchCV(lasso, param_grid={'alpha': alpha_can2}, cv=5).fit(feature_train,label_train)\n",
    "alpha1,alpha2=ridge_model.best_params_ ,lasso_model.best_params_\n",
    "print(\"训练后获得的Ridge Regression和LASSO最优的alpha值分别为%f，%f\"%(alpha1['alpha'],alpha2['alpha']))"
   ]
  },
  {
   "cell_type": "markdown",
   "metadata": {},
   "source": [
    "# 4、模型比较"
   ]
  },
  {
   "cell_type": "code",
   "execution_count": 56,
   "metadata": {},
   "outputs": [],
   "source": [
    "def R_cal(predict,ture):#求R—Square的函数\n",
    "    ave=sum(ture)/len(ture)\n",
    "    SST,SSE=0,0\n",
    "    for i in range(len(ture)):\n",
    "        SST+=(ture[i]-ave)**2\n",
    "    for i in range(len(predict)):\n",
    "        SSE+=(ture[i]-predict[i])**2\n",
    "    R2=1-(SSE/SST)\n",
    "    return R2\n",
    "reg_value=reg.predict(feature_test)#各个模型的预测值\n",
    "ridge_value=ridge_model.predict(feature_test)\n",
    "lasso_value=lasso_model.predict(feature_test)"
   ]
  },
  {
   "cell_type": "code",
   "execution_count": 57,
   "metadata": {},
   "outputs": [
    {
     "name": "stdout",
     "output_type": "stream",
     "text": [
      "逻辑回归、岭回归、LASSO回归的R-Square值分别为0.516121,0.515324,0.517101\n"
     ]
    }
   ],
   "source": [
    "reg_R=R_cal(reg_value,label_test)\n",
    "ridge_R=R_cal(ridge_value,label_test)\n",
    "lasso_R=R_cal(lasso_value,label_test)\n",
    "print(\"逻辑回归、岭回归、LASSO回归的R-Square值分别为%f,%f,%f\"%(reg_R,ridge_R,lasso_R))"
   ]
  },
  {
   "cell_type": "code",
   "execution_count": 61,
   "metadata": {},
   "outputs": [
    {
     "name": "stdout",
     "output_type": "stream",
     "text": [
      "[-0.01620209 -0.16554494  0.33309273  0.20281567 -0.45154469  0.22663419\n",
      "  0.08154838  0.1741068   0.44115894  0.02897993] [-0.01114125 -0.14720829  0.30962494  0.18916878 -0.05175599 -0.06414211\n",
      " -0.10211846  0.10412772  0.27952181  0.04078589] [-0.         -0.12190512  0.32718092  0.16954743 -0.04238853 -0.\n",
      " -0.13501329  0.          0.31138898  0.00850045]\n",
      "0.005051249017291766 0.005569991774749211 0.00510781724851659\n"
     ]
    }
   ],
   "source": [
    "reg_w=reg.coef_#各个模型的回归系数\n",
    "ridge_w=Ridge(alpha=alpha1['alpha']).fit(feature_train,label_train).coef_\n",
    "lasso_w=Lasso(alpha=alpha2['alpha']).fit(feature_train,label_train).coef_\n",
    "reg_b=reg.intercept_\n",
    "ridge_b=Ridge(alpha=alpha1['alpha']).fit(feature_train,label_train).intercept_\n",
    "lasso_b=Lasso(alpha=alpha2['alpha']).fit(feature_train,label_train).intercept_\n",
    "print(reg_w,ridge_w,lasso_w)\n",
    "print(reg_b,ridge_b,lasso_b)"
   ]
  },
  {
   "cell_type": "markdown",
   "metadata": {},
   "source": [
    "可以比较明显的看出，岭回归回归系数的一范数小于逻辑回归，而LASSO回归又小于岭回归，同时LASSO回归中有的回归系数降为0."
   ]
  },
  {
   "cell_type": "markdown",
   "metadata": {},
   "source": [
    "# 5、拓展分析"
   ]
  },
  {
   "cell_type": "code",
   "execution_count": 66,
   "metadata": {},
   "outputs": [
    {
     "name": "stderr",
     "output_type": "stream",
     "text": [
      "<ipython-input-66-2390ee76d5e4>:5: UserWarning: With alpha=0, this algorithm does not converge well. You are advised to use the LinearRegression estimator\n",
      "  lasso_w=Lasso(alpha=i).fit(feature_train,label_train).coef_\n",
      "C:\\Users\\hp\\anaconda3\\lib\\site-packages\\sklearn\\linear_model\\_coordinate_descent.py:529: UserWarning: Coordinate descent with no regularization may lead to unexpected results and is discouraged.\n",
      "  model = cd_fast.enet_coordinate_descent(\n",
      "C:\\Users\\hp\\anaconda3\\lib\\site-packages\\sklearn\\linear_model\\_coordinate_descent.py:529: ConvergenceWarning: Objective did not converge. You might want to increase the number of iterations. Duality gap: 73.23574629015782, tolerance: 0.03026057339588449\n",
      "  model = cd_fast.enet_coordinate_descent(\n"
     ]
    }
   ],
   "source": [
    "ri_norm1,ri_norm2=[],[]\n",
    "la_norm1,la_norm2=[],[]\n",
    "for i in range(20):\n",
    "    ridge_w=Ridge(alpha=i).fit(feature_train,label_train).coef_\n",
    "    lasso_w=Lasso(alpha=i).fit(feature_train,label_train).coef_\n",
    "    ri_norm1.append(np.linalg.norm(ridge_w, ord=1))\n",
    "    la_norm1.append(np.linalg.norm(lasso_w, ord=1))\n",
    "    ri_norm2.append(np.linalg.norm(ridge_w, ord=2))\n",
    "    la_norm2.append(np.linalg.norm(lasso_w, ord=2))\n",
    "lg_norm1=np.linalg.norm(reg_w, ord=1)\n",
    "lg_norm2=np.linalg.norm(reg_w, ord=2)\n",
    "lg_norm1,lg_norm2=[lg_norm1]*20,[lg_norm2]*20"
   ]
  },
  {
   "cell_type": "code",
   "execution_count": 74,
   "metadata": {},
   "outputs": [
    {
     "data": {
      "image/png": "[encoded data removed]",
      "text/plain": [
       "<Figure size 432x288 with 1 Axes>"
      ]
     },
     "metadata": {
      "needs_background": "light"
     },
     "output_type": "display_data"
    }
   ],
   "source": [
    "plt.figure()\n",
    "plt.plot(range(20),ri_norm1,label='Ridge')\n",
    "plt.plot(range(20),la_norm1,label='LASSO')\n",
    "plt.plot(range(20),lg_norm1,label='Logistic')\n",
    "plt.legend()  # 让图例生效\n",
    "plt.xlabel('Alpha') #X轴标签\n",
    "plt.ylabel(\"1-Norm Value\") #Y轴标签\n",
    "plt.show()"
   ]
  },
  {
   "cell_type": "code",
   "execution_count": 75,
   "metadata": {},
   "outputs": [
    {
     "data": {
      "image/png": "[encoded data removed]",
      "text/plain": [
       "<Figure size 432x288 with 1 Axes>"
      ]
     },
     "metadata": {
      "needs_background": "light"
     },
     "output_type": "display_data"
    }
   ],
   "source": [
    "plt.figure()\n",
    "plt.plot(range(20),ri_norm2,label='Ridge')\n",
    "plt.plot(range(20),la_norm2,label='LASSO')\n",
    "plt.plot(range(20),lg_norm2,label='Logistic')\n",
    "plt.legend()  # 让图例生效\n",
    "plt.xlabel('Alpha') #X轴标签\n",
    "plt.ylabel(\"2-Norm Value\") #Y轴标签\n",
    "plt.show()"
   ]
  },
  {
   "cell_type": "markdown",
   "metadata": {},
   "source": [
    "可以看到随着alpha增大，Ridge和LASSO的回归系数的1、2范数都会随之减小，对于LASSO来说格外明显。除此之外，我们观察到当alpha增加至1左右时，LASSO回归的回归系数的一范数与二范数全部变成了常数零，这提示我们alpha还会造成的显著影响是回归系数中0的个数，接下来再对这一因素进行探讨。"
   ]
  },
  {
   "cell_type": "code",
   "execution_count": 79,
   "metadata": {},
   "outputs": [
    {
     "name": "stderr",
     "output_type": "stream",
     "text": [
      "<ipython-input-79-a24deb5fa606>:5: UserWarning: With alpha=0, this algorithm does not converge well. You are advised to use the LinearRegression estimator\n",
      "  lasso_w=Lasso(alpha=i).fit(feature_train,label_train).coef_\n",
      "C:\\Users\\hp\\anaconda3\\lib\\site-packages\\sklearn\\linear_model\\_coordinate_descent.py:529: UserWarning: Coordinate descent with no regularization may lead to unexpected results and is discouraged.\n",
      "  model = cd_fast.enet_coordinate_descent(\n",
      "C:\\Users\\hp\\anaconda3\\lib\\site-packages\\sklearn\\linear_model\\_coordinate_descent.py:529: ConvergenceWarning: Objective did not converge. You might want to increase the number of iterations. Duality gap: 73.23574629015782, tolerance: 0.03026057339588449\n",
      "  model = cd_fast.enet_coordinate_descent(\n"
     ]
    },
    {
     "data": {
      "image/png": "[encoded data removed]",
      "text/plain": [
       "<Figure size 432x288 with 1 Axes>"
      ]
     },
     "metadata": {
      "needs_background": "light"
     },
     "output_type": "display_data"
    }
   ],
   "source": [
    "riz,laz=[],[]\n",
    "for i in range(50):\n",
    "    ri,la=0,0\n",
    "    ridge_w=Ridge(alpha=i).fit(feature_train,label_train).coef_\n",
    "    lasso_w=Lasso(alpha=i).fit(feature_train,label_train).coef_\n",
    "    for j in range(len(ridge_w)):\n",
    "        if ridge_w[j]!=0:\n",
    "            ri+=1\n",
    "        else:\n",
    "            pass\n",
    "    for k in range(len(lasso_w)):\n",
    "        if lasso_w[j]!=0:\n",
    "            la+=1\n",
    "        else:\n",
    "            pass\n",
    "    riz.append(ri)\n",
    "    laz.append(la)\n",
    "plt.figure()\n",
    "plt.plot(range(50),riz,label='Ridge')\n",
    "plt.plot(range(50),laz,label='LASSO')\n",
    "plt.legend()  # 让图例生效\n",
    "plt.xlabel('Alpha') #X轴标签\n",
    "plt.ylabel(\"Non-zero counts\") #Y轴标签\n",
    "plt.show()"
   ]
  },
  {
   "cell_type": "markdown",
   "metadata": {},
   "source": [
    "很明显，当alpha=1时LASSO回归中系数就已经全部变成了零，由于alpha影响LASSO和Ridge的程度不同，接下来我们减小alpha的值，单独对LAASO进行做图分析。"
   ]
  },
  {
   "cell_type": "code",
   "execution_count": 87,
   "metadata": {},
   "outputs": [
    {
     "name": "stderr",
     "output_type": "stream",
     "text": [
      "<ipython-input-87-08841744cde9>:4: UserWarning: With alpha=0, this algorithm does not converge well. You are advised to use the LinearRegression estimator\n",
      "  lasso_w=Lasso(alpha=i).fit(feature_train,label_train).coef_\n",
      "C:\\Users\\hp\\anaconda3\\lib\\site-packages\\sklearn\\linear_model\\_coordinate_descent.py:529: UserWarning: Coordinate descent with no regularization may lead to unexpected results and is discouraged.\n",
      "  model = cd_fast.enet_coordinate_descent(\n",
      "C:\\Users\\hp\\anaconda3\\lib\\site-packages\\sklearn\\linear_model\\_coordinate_descent.py:529: ConvergenceWarning: Objective did not converge. You might want to increase the number of iterations. Duality gap: 73.23574629015782, tolerance: 0.03026057339588449\n",
      "  model = cd_fast.enet_coordinate_descent(\n"
     ]
    },
    {
     "data": {
      "image/png": "[encoded data removed]",
      "text/plain": [
       "<Figure size 432x288 with 1 Axes>"
      ]
     },
     "metadata": {
      "needs_background": "light"
     },
     "output_type": "display_data"
    }
   ],
   "source": [
    "lazn=[]\n",
    "for i in np.linspace(0,1,50):\n",
    "    la=0\n",
    "    lasso_w=Lasso(alpha=i).fit(feature_train,label_train).coef_\n",
    "    for k in range(len(lasso_w)):\n",
    "        if lasso_w[j]!=0:\n",
    "            la+=1\n",
    "        else:\n",
    "            pass\n",
    "    lazn.append(la)\n",
    "plt.figure()\n",
    "plt.plot(np.linspace(0,1,50),lazn,label='LASSO')\n",
    "plt.scatter(np.linspace(0,1,50),lazn)\n",
    "plt.legend()  # 让图例生效\n",
    "plt.xlabel('Alpha') #X轴标签\n",
    "plt.ylabel(\"Non-zero counts\") #Y轴标签\n",
    "plt.show()"
   ]
  },
  {
   "cell_type": "markdown",
   "metadata": {},
   "source": [
    "可以看到LASSO回归系数中0的个数发生了突变，而突变的点与我们之前求得的最优alpha值十分接近。"
   ]
  }
 ],
 "metadata": {
  "kernelspec": {
   "display_name": "Python 3",
   "language": "python",
   "name": "python3"
  },
  "language_info": {
   "codemirror_mode": {
    "name": "ipython",
    "version": 3
   },
   "file_extension": ".py",
   "mimetype": "text/x-python",
   "name": "python",
   "nbconvert_exporter": "python",
   "pygments_lexer": "ipython3",
   "version": "3.8.5"
  }
 },
 "nbformat": 4,
 "nbformat_minor": 4
}
