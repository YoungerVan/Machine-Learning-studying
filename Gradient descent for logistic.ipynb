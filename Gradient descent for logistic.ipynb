{
 "cells": [
  {
   "cell_type": "markdown",
   "metadata": {},
   "source": [
    "# 1.证明"
   ]
  },
  {
   "cell_type": "markdown",
   "metadata": {},
   "source": [
    "# 1.1 梯度"
   ]
  },
  {
   "cell_type": "markdown",
   "metadata": {},
   "source": [
    "逻辑回归对数化的损失函数可以表示为：\n",
    "\\begin{align}\n",
    "\\mathcal{l}(\\boldsymbol{\\beta})=\\sum_{i=1}^{n}\\left(-y_{i}\\boldsymbol{\\beta}^{T}\\mathbf{x}_{i}+log(1+e^{\\boldsymbol{\\beta}^{T}\\mathbf{x}_{i}})\\right)\n",
    "\\end{align}\n",
    "所以有：\n",
    "\\begin{align}\n",
    "\\nabla\\mathcal{l}(\\boldsymbol{\\beta})&=\\sum_{i=1}^{n}\\left(-y_{i}\\mathbf{x}_{i}+\\frac{\\mathbf{x}_{i}e^{\\boldsymbol{\\beta}^{T}\\mathbf{x}_{i}}}{1+e^{\\boldsymbol{\\beta}^{T}\\mathbf{x}_{i}}}\\right)\\nonumber\\\\\n",
    "&=\\sum_{i=1}^{n}\\left(-y_{i}\\mathbf{x}_{i}+\\mu_{i}\\mathbf{x}_{i}\\right)\\nonumber\\\\\n",
    "&=\\mathbf{X}^{T}(\\boldsymbol{\\mu}-\\mathbf{y})\\nonumber\\\\\n",
    "\\end{align}"
   ]
  },
  {
   "cell_type": "markdown",
   "metadata": {},
   "source": [
    "# 1.2 Hesse矩阵"
   ]
  },
  {
   "cell_type": "markdown",
   "metadata": {},
   "source": [
    "对数损失函数的Hesse矩阵满足：\n",
    "\\begin{align}\n",
    "    \\mathbf{H}=\\nabla^2\\mathcal{l}(\\boldsymbol{\\beta})&=\\frac{\\nabla\\mathcal{l}(\\boldsymbol{\\beta})}{\\partial\\boldsymbol{\\beta} }\\nonumber\\\\\n",
    "    &=\\sum_{i=1}^{n}\\left(\\frac{\\nabla(\\mathbf{x}_{i}e^{\\boldsymbol{\\beta}^{T}\\mathbf{x}_{i}})(1+e^{\\boldsymbol{\\beta}^{T}\\mathbf{x}_{i}})-\\nabla(1+e^{\\boldsymbol{\\beta}^{T}\\mathbf{x}_{i}})(\\mathbf{x}_{i}e^{\\boldsymbol{\\beta}^{T}\\mathbf{x}_{i}})}{(1+e^{\\boldsymbol{\\beta}^{T}\\mathbf{x}_{i}})^2}\\right)\\nonumber\\\\\n",
    "    &=\\sum_{i=1}^{n}\\left(\\frac{\\mathbf{x}_{i}e^{\\boldsymbol{\\beta}^{T}\\mathbf{x}_{i}}\\mathbf{x}_{i}^T(1+e^{\\boldsymbol{\\beta}^{T}\\mathbf{x}_{i}})-\\mathbf{x}_{i}e^{\\boldsymbol{\\beta}^{T}\\mathbf{x}_{i}}e^{\\boldsymbol{\\beta}^{T}\\mathbf{x}_{i}}\\mathbf{x}_{i}^T}{(1+e^{\\boldsymbol{\\beta}^{T}\\mathbf{x}_{i}})^2}\\right)\\nonumber\\\\\n",
    "    &=\\sum_{i=1}^{n}\\left(\\frac{\\mathbf{x}_{i}e^{\\boldsymbol{\\beta}^{T}\\mathbf{x}_{i}}\\mathbf{x}_{i}^T}{(1+e^{\\boldsymbol{\\beta}^{T}\\mathbf{x}_{i}})^2}\\right)\\nonumber\\\\\n",
    "    &=\\sum_{i=1}^{n}\\left(\\mathbf{x}_{i}\\mathbf{x}_{i}^T\\times\\frac{e^{\\boldsymbol{\\beta}^{T}\\mathbf{x}_{i}}}{(1+e^{\\boldsymbol{\\beta}^{T}\\mathbf{x}_{i}})}\\times \\frac{1}{(1+e^{\\boldsymbol{\\beta}^{T}\\mathbf{x}_{i}})}\\right)\\nonumber\\\\\n",
    "    &=\\sum_{i=1}^{n}\\bigg(\\mathbf{x}_{i}\\mathbf{x}_{i}^T\\times\\mu_i(1-\\mu_i)\\bigg)\\nonumber\\\\\n",
    "    &=\\mathbf{X}^{T}\\mathbf{S}\\mathbf{X}\\nonumber\n",
    "\\end{align}"
   ]
  },
  {
   "cell_type": "markdown",
   "metadata": {},
   "source": [
    "# 1.3 Hesse矩阵为正定矩阵"
   ]
  },
  {
   "cell_type": "markdown",
   "metadata": {},
   "source": [
    "观察矩阵$\\mathbf{S}$的特征，矩阵$\\mathbf{S}$为一对角阵，且每一个元素都大于零，构造任一不全为0的列向量$\\mathbf{y}$,$y\\in \\mathbb{R}^n$,于是有：\n",
    "\\begin{align}\n",
    "    \\mathbf{y}^T\\mathbf{H}\\mathbf{y}&=\\mathbf{y}^T\\mathbf{X}^T\\mathbf{S}\\mathbf{X}\\mathbf{y}\\nonumber\\\\\n",
    "    &=\\mathbf{v}^T\\mathbf{S}\\mathbf{v}\\nonumber\n",
    "\\end{align}\n",
    "其中，$\\mathbf{X}\\in \\mathbf{R}^{m\\times n}$,故$\\mathbf{u}=\\mathbf{X}\\mathbf{y}\\in  \\mathbf{R}^{m},$m为样本维度，n为特征维度。于是：\n",
    "\\begin{align}\n",
    "    \\mathbf{y}^T\\mathbf{H}\\mathbf{y}=\\sum_{i=1}^{m}\\mu_{i}(1-\\mu_{i})v_{i}^{2}\\nonumber\n",
    "\\end{align}\n",
    "由于$\\mathbf{y}$不全为0，设其第j个维度不为0，那么在$\\mathbf{X}$中只要第j列不全为0即可保证$\\mathbf{y}^T\\mathbf{H}\\mathbf{y}>0$,这就要求$\\mathbf{X}$必须是列满秩的，也即样本数应大于等于特征数，这与线性回归部分要求$\\mathbf{X}^T\\mathbf{X}$满秩是一致的。"
   ]
  },
  {
   "cell_type": "markdown",
   "metadata": {},
   "source": [
    "# 2.梯度下降法求解逻辑回归问题"
   ]
  },
  {
   "cell_type": "markdown",
   "metadata": {},
   "source": [
    "## 2.1数据未标准化的逻辑回归"
   ]
  },
  {
   "cell_type": "markdown",
   "metadata": {},
   "source": [
    "如果不将数据进行标准化仍然有几个问题需要处理"
   ]
  },
  {
   "cell_type": "code",
   "execution_count": 1,
   "metadata": {},
   "outputs": [
    {
     "name": "stdout",
     "output_type": "stream",
     "text": [
      "[[17241.37225964224]\n",
      " [23816.558275988613]\n",
      " [100420.93029001408]\n",
      " [42273.29112773233]\n",
      " [160.28580464816642]\n",
      " [-64.75877118394168]\n",
      " [-306.2260865434493]\n",
      " [-130.4487293143204]\n",
      " [304.32907313359925]\n",
      " [127.02216636387377]\n",
      " [58.337404048863256]\n",
      " [1563.9366004401609]\n",
      " [-530.5398195629141]\n",
      " [-44409.28923726582]\n",
      " [8.5718155983079]\n",
      " [-20.155988649576507]\n",
      " [-38.28410730640716]\n",
      " [-4.66502871308884]\n",
      " [26.524300211121577]\n",
      " [1.9346643424764909]\n",
      " [18264.07028572239]\n",
      " [30201.597324712115]\n",
      " [101997.87680432528]\n",
      " [-57318.05078698588]\n",
      " [200.9146370378746]\n",
      " [-291.89353073316926]\n",
      " [-628.9457152644441]\n",
      " [-143.99025789128862]\n",
      " [418.398234026802]\n",
      " [119.09853335551799]\n",
      " [2259.000020574876]]\n"
     ]
    }
   ],
   "source": [
    "import pandas as pd\n",
    "import numpy as np\n",
    "from math import exp\n",
    "import matplotlib.pyplot as plt\n",
    "dataset=pd.read_table(r'C:\\Users\\hp\\Desktop\\机器学习\\wdbc.data',sep=',')\n",
    "dataset.loc[dataset.shape[0]]=dataset.columns#将被作为列名的数据添加到样本集中\n",
    "feature_number_int=range(1,31)\n",
    "feature_number=[]\n",
    "for i in range(len(feature_number_int)):\n",
    "    feature_number.append(\"Feature\"+str(feature_number_int[i]) )#新列名\n",
    "dataset.columns=['ID','Diagnosis']+feature_number\n",
    "dataset.iloc[dataset['Diagnosis']=='B',1]=1\n",
    "dataset.iloc[dataset['Diagnosis']=='M',1]=0\n",
    "dataset['changshu'] =1.0\n",
    "label=dataset.iloc[:,1]\n",
    "feature=dataset.iloc[:,2:]\n",
    "feature=feature.astype(float)\n",
    "A=np.mat(feature).T\n",
    "y=np.mat(label).reshape(569,1)\n",
    "beta=np.mat([[0.1]*31]).T\n",
    "T=1000\n",
    "s=0.1\n",
    "def get_mu(A,beta):\n",
    "    mu=[]\n",
    "    for i in range(A.shape[1]):\n",
    "        inner_product=-A[:,i].T*beta\n",
    "        if inner_product<-20:\n",
    "            inner_product=-20\n",
    "        elif inner_product>20:\n",
    "            inner_product=20\n",
    "        m=1/(1+exp(inner_product))\n",
    "        mu.append(m)\n",
    "    return np.mat(mu).T\n",
    "for i in range(T):\n",
    "    mu=get_mu(A,beta)\n",
    "    minus=mu-y\n",
    "    nabla=A*minus\n",
    "    beta=beta-s*nabla\n",
    "print(beta)"
   ]
  },
  {
   "cell_type": "markdown",
   "metadata": {},
   "source": [
    "可以看到变量之间差异较大，所以对数据进行标准化。"
   ]
  },
  {
   "cell_type": "markdown",
   "metadata": {},
   "source": [
    "## 2.2数据标准化后的逻辑回归"
   ]
  },
  {
   "cell_type": "markdown",
   "metadata": {},
   "source": [
    "### 2.2.1 固定步长"
   ]
  },
  {
   "cell_type": "code",
   "execution_count": 12,
   "metadata": {},
   "outputs": [
    {
     "data": {
      "image/png": "[encoded data removed]",
      "text/plain": [
       "<Figure size 432x288 with 1 Axes>"
      ]
     },
     "metadata": {
      "needs_background": "light"
     },
     "output_type": "display_data"
    },
    {
     "name": "stdout",
     "output_type": "stream",
     "text": [
      "[[1.9065474534094002]\n",
      " [0.44985285018927695]\n",
      " [1.73318403380592]\n",
      " [0.6951964290616198]\n",
      " [-1.0134997485980632]\n",
      " [4.549777339608519]\n",
      " [-3.386461501569126]\n",
      " [-3.0854036986820184]\n",
      " [0.5857415189201542]\n",
      " [-0.4877239696309091]\n",
      " [-3.8123677379448853]\n",
      " [1.365526399741463]\n",
      " [0.9749838117710609]\n",
      " [-4.659758249501533]\n",
      " [-1.096120972824806]\n",
      " [-1.132468473052273]\n",
      " [2.426311901537285]\n",
      " [-2.623166948681939]\n",
      " [0.7605516630087075]\n",
      " [4.716868498313678]\n",
      " [-3.7885402687762535]\n",
      " [-3.8037375420964885]\n",
      " [-2.665760761532428]\n",
      " [-4.766682110441466]\n",
      " [0.2930941337977694]\n",
      " [1.4780213571917693]\n",
      " [-2.4276016774485725]\n",
      " [-0.9392077083009135]\n",
      " [-1.7961403151690034]\n",
      " [-3.321763426269593]\n",
      " [-1.3343305459715429]]\n"
     ]
    }
   ],
   "source": [
    "import pandas as pd\n",
    "import numpy as np\n",
    "from math import exp\n",
    "import matplotlib.pyplot as plt\n",
    "from sklearn import preprocessing\n",
    "\n",
    "dataset=pd.read_table(r'C:\\Users\\hp\\Desktop\\机器学习\\wdbc.data',sep=',')\n",
    "dataset.loc[dataset.shape[0]]=dataset.columns#将被作为列名的数据添加到样本集中\n",
    "feature_number_int=range(1,31)\n",
    "feature_number=[]\n",
    "for i in range(len(feature_number_int)):\n",
    "    feature_number.append(\"Feature\"+str(feature_number_int[i]) )#新列名\n",
    "dataset.columns=['ID','Diagnosis']+feature_number\n",
    "standard_dataset = preprocessing.scale(dataset.iloc[:,2:])\n",
    "dataset.iloc[:,2:33]=standard_dataset\n",
    "dataset.iloc[dataset['Diagnosis']=='B',1]=1\n",
    "dataset.iloc[dataset['Diagnosis']=='M',1]=0\n",
    "dataset['changshu'] =1.0\n",
    "label=dataset.iloc[:,1]\n",
    "feature=dataset.iloc[:,2:]\n",
    "A=np.mat(feature).T\n",
    "y=np.mat(label).reshape(569,1)\n",
    "beta=np.mat([[0.1]*31]).T\n",
    "T=2000\n",
    "s=0.01\n",
    "def get_mu(A,beta):\n",
    "    mu=[]\n",
    "    for i in range(A.shape[1]):\n",
    "        inner_product=-A[:,i].T*beta\n",
    "        if inner_product<-20:\n",
    "            inner_product=-20\n",
    "        elif inner_product>20:\n",
    "            inner_product=20\n",
    "        m=1/(1+exp(inner_product))\n",
    "        mu.append(m)\n",
    "    return np.mat(mu).T\n",
    "plt.figure()\n",
    "for i in range(T):\n",
    "    mu=get_mu(A,beta)\n",
    "    minus=mu-y\n",
    "    nabla=A*minus\n",
    "    beta=beta-s*nabla\n",
    "    plt.scatter(i,np.linalg.norm(np.array(nabla).astype(float)))\n",
    "    #plt.scatter(i,get_fvalue(A,y,beta))\n",
    "plt.show()\n",
    "print(beta)"
   ]
  },
  {
   "cell_type": "markdown",
   "metadata": {},
   "source": [
    "### 2.2.2 线搜索确定步长"
   ]
  },
  {
   "cell_type": "markdown",
   "metadata": {},
   "source": [
    "虽然固定步长从梯度的二范数上看一直在下降，但是对损失函数而言仍不能保证其每一步都在下降，所以设计了线搜索求步长的方法（提示：可能需要较长的时间去运行）"
   ]
  },
  {
   "cell_type": "code",
   "execution_count": 102,
   "metadata": {},
   "outputs": [
    {
     "ename": "KeyboardInterrupt",
     "evalue": "",
     "output_type": "error",
     "traceback": [
      "\u001b[1;31m---------------------------------------------------------------------------\u001b[0m",
      "\u001b[1;31mKeyboardInterrupt\u001b[0m                         Traceback (most recent call last)",
      "\u001b[1;32m<ipython-input-102-c61316076a88>\u001b[0m in \u001b[0;36m<module>\u001b[1;34m\u001b[0m\n\u001b[0;32m     49\u001b[0m     \u001b[0mminus\u001b[0m\u001b[1;33m=\u001b[0m\u001b[0mmu\u001b[0m\u001b[1;33m-\u001b[0m\u001b[0my\u001b[0m\u001b[1;33m\u001b[0m\u001b[1;33m\u001b[0m\u001b[0m\n\u001b[0;32m     50\u001b[0m     \u001b[0mnabla\u001b[0m\u001b[1;33m=\u001b[0m\u001b[0mA\u001b[0m\u001b[1;33m*\u001b[0m\u001b[0mminus\u001b[0m\u001b[1;33m\u001b[0m\u001b[1;33m\u001b[0m\u001b[0m\n\u001b[1;32m---> 51\u001b[1;33m     \u001b[0ms\u001b[0m\u001b[1;33m=\u001b[0m\u001b[0mget_s\u001b[0m\u001b[1;33m(\u001b[0m\u001b[0mA\u001b[0m\u001b[1;33m,\u001b[0m\u001b[0my\u001b[0m\u001b[1;33m,\u001b[0m\u001b[0mbeta\u001b[0m\u001b[1;33m,\u001b[0m\u001b[0mnabla\u001b[0m\u001b[1;33m)\u001b[0m\u001b[1;33m\u001b[0m\u001b[1;33m\u001b[0m\u001b[0m\n\u001b[0m\u001b[0;32m     52\u001b[0m     \u001b[0mbeta\u001b[0m\u001b[1;33m=\u001b[0m\u001b[0mbeta\u001b[0m\u001b[1;33m-\u001b[0m\u001b[0ms\u001b[0m\u001b[1;33m*\u001b[0m\u001b[0mnabla\u001b[0m\u001b[1;33m\u001b[0m\u001b[1;33m\u001b[0m\u001b[0m\n\u001b[0;32m     53\u001b[0m \u001b[0mprint\u001b[0m\u001b[1;33m(\u001b[0m\u001b[0mbeta\u001b[0m\u001b[1;33m)\u001b[0m\u001b[1;33m\u001b[0m\u001b[1;33m\u001b[0m\u001b[0m\n",
      "\u001b[1;32m<ipython-input-102-c61316076a88>\u001b[0m in \u001b[0;36mget_s\u001b[1;34m(A, y, beta, nabla)\u001b[0m\n\u001b[0;32m     42\u001b[0m \u001b[1;32mdef\u001b[0m \u001b[0mget_s\u001b[0m\u001b[1;33m(\u001b[0m\u001b[0mA\u001b[0m\u001b[1;33m,\u001b[0m\u001b[0my\u001b[0m\u001b[1;33m,\u001b[0m\u001b[0mbeta\u001b[0m\u001b[1;33m,\u001b[0m\u001b[0mnabla\u001b[0m\u001b[1;33m)\u001b[0m\u001b[1;33m:\u001b[0m\u001b[1;33m\u001b[0m\u001b[1;33m\u001b[0m\u001b[0m\n\u001b[0;32m     43\u001b[0m     \u001b[0ms\u001b[0m\u001b[1;33m=\u001b[0m\u001b[1;36m1\u001b[0m\u001b[1;33m\u001b[0m\u001b[1;33m\u001b[0m\u001b[0m\n\u001b[1;32m---> 44\u001b[1;33m     \u001b[1;32mwhile\u001b[0m\u001b[1;33m(\u001b[0m\u001b[0mget_fvalue\u001b[0m\u001b[1;33m(\u001b[0m\u001b[0mA\u001b[0m\u001b[1;33m,\u001b[0m\u001b[0my\u001b[0m\u001b[1;33m,\u001b[0m\u001b[0mbeta\u001b[0m\u001b[1;33m)\u001b[0m\u001b[1;33m<\u001b[0m\u001b[0mget_fvalue\u001b[0m\u001b[1;33m(\u001b[0m\u001b[0mA\u001b[0m\u001b[1;33m,\u001b[0m\u001b[0my\u001b[0m\u001b[1;33m,\u001b[0m\u001b[0mbeta\u001b[0m\u001b[1;33m-\u001b[0m\u001b[0ms\u001b[0m\u001b[1;33m*\u001b[0m\u001b[0mnabla\u001b[0m\u001b[1;33m)\u001b[0m\u001b[1;33m)\u001b[0m\u001b[1;33m:\u001b[0m\u001b[1;33m\u001b[0m\u001b[1;33m\u001b[0m\u001b[0m\n\u001b[0m\u001b[0;32m     45\u001b[0m         \u001b[0ms\u001b[0m\u001b[1;33m/=\u001b[0m\u001b[1;36m2\u001b[0m\u001b[1;33m\u001b[0m\u001b[1;33m\u001b[0m\u001b[0m\n\u001b[0;32m     46\u001b[0m     \u001b[1;32mreturn\u001b[0m \u001b[0ms\u001b[0m\u001b[1;33m\u001b[0m\u001b[1;33m\u001b[0m\u001b[0m\n",
      "\u001b[1;32m<ipython-input-102-c61316076a88>\u001b[0m in \u001b[0;36mget_fvalue\u001b[1;34m(A, y, beta)\u001b[0m\n\u001b[0;32m     33\u001b[0m         \u001b[0mf\u001b[0m\u001b[1;33m=\u001b[0m\u001b[1;36m0\u001b[0m\u001b[1;33m\u001b[0m\u001b[1;33m\u001b[0m\u001b[0m\n\u001b[0;32m     34\u001b[0m         \u001b[1;32mfor\u001b[0m \u001b[0mi\u001b[0m \u001b[1;32min\u001b[0m \u001b[0mrange\u001b[0m\u001b[1;33m(\u001b[0m\u001b[0mA\u001b[0m\u001b[1;33m.\u001b[0m\u001b[0mshape\u001b[0m\u001b[1;33m[\u001b[0m\u001b[1;36m1\u001b[0m\u001b[1;33m]\u001b[0m\u001b[1;33m)\u001b[0m\u001b[1;33m:\u001b[0m\u001b[1;33m\u001b[0m\u001b[1;33m\u001b[0m\u001b[0m\n\u001b[1;32m---> 35\u001b[1;33m             \u001b[0minner_product\u001b[0m\u001b[1;33m=\u001b[0m\u001b[0mA\u001b[0m\u001b[1;33m[\u001b[0m\u001b[1;33m:\u001b[0m\u001b[1;33m,\u001b[0m\u001b[0mi\u001b[0m\u001b[1;33m]\u001b[0m\u001b[1;33m.\u001b[0m\u001b[0mT\u001b[0m\u001b[1;33m*\u001b[0m\u001b[0mbeta\u001b[0m\u001b[1;33m\u001b[0m\u001b[1;33m\u001b[0m\u001b[0m\n\u001b[0m\u001b[0;32m     36\u001b[0m             \u001b[1;32mif\u001b[0m \u001b[0minner_product\u001b[0m\u001b[1;33m<\u001b[0m\u001b[1;33m-\u001b[0m\u001b[1;36m20\u001b[0m\u001b[1;33m:\u001b[0m\u001b[1;33m\u001b[0m\u001b[1;33m\u001b[0m\u001b[0m\n\u001b[0;32m     37\u001b[0m                 \u001b[0minner_product\u001b[0m\u001b[1;33m=\u001b[0m\u001b[1;36m0\u001b[0m\u001b[1;33m\u001b[0m\u001b[1;33m\u001b[0m\u001b[0m\n",
      "\u001b[1;32m~\\anaconda3\\lib\\site-packages\\numpy\\matrixlib\\defmatrix.py\u001b[0m in \u001b[0;36m__getitem__\u001b[1;34m(self, index)\u001b[0m\n\u001b[0;32m    193\u001b[0m \u001b[1;33m\u001b[0m\u001b[0m\n\u001b[0;32m    194\u001b[0m         \u001b[1;32mtry\u001b[0m\u001b[1;33m:\u001b[0m\u001b[1;33m\u001b[0m\u001b[1;33m\u001b[0m\u001b[0m\n\u001b[1;32m--> 195\u001b[1;33m             \u001b[0mout\u001b[0m \u001b[1;33m=\u001b[0m \u001b[0mN\u001b[0m\u001b[1;33m.\u001b[0m\u001b[0mndarray\u001b[0m\u001b[1;33m.\u001b[0m\u001b[0m__getitem__\u001b[0m\u001b[1;33m(\u001b[0m\u001b[0mself\u001b[0m\u001b[1;33m,\u001b[0m \u001b[0mindex\u001b[0m\u001b[1;33m)\u001b[0m\u001b[1;33m\u001b[0m\u001b[1;33m\u001b[0m\u001b[0m\n\u001b[0m\u001b[0;32m    196\u001b[0m         \u001b[1;32mfinally\u001b[0m\u001b[1;33m:\u001b[0m\u001b[1;33m\u001b[0m\u001b[1;33m\u001b[0m\u001b[0m\n\u001b[0;32m    197\u001b[0m             \u001b[0mself\u001b[0m\u001b[1;33m.\u001b[0m\u001b[0m_getitem\u001b[0m \u001b[1;33m=\u001b[0m \u001b[1;32mFalse\u001b[0m\u001b[1;33m\u001b[0m\u001b[1;33m\u001b[0m\u001b[0m\n",
      "\u001b[1;32m~\\anaconda3\\lib\\site-packages\\numpy\\matrixlib\\defmatrix.py\u001b[0m in \u001b[0;36m__array_finalize__\u001b[1;34m(self, obj)\u001b[0m\n\u001b[0;32m    169\u001b[0m     \u001b[1;32mdef\u001b[0m \u001b[0m__array_finalize__\u001b[0m\u001b[1;33m(\u001b[0m\u001b[0mself\u001b[0m\u001b[1;33m,\u001b[0m \u001b[0mobj\u001b[0m\u001b[1;33m)\u001b[0m\u001b[1;33m:\u001b[0m\u001b[1;33m\u001b[0m\u001b[1;33m\u001b[0m\u001b[0m\n\u001b[0;32m    170\u001b[0m         \u001b[0mself\u001b[0m\u001b[1;33m.\u001b[0m\u001b[0m_getitem\u001b[0m \u001b[1;33m=\u001b[0m \u001b[1;32mFalse\u001b[0m\u001b[1;33m\u001b[0m\u001b[1;33m\u001b[0m\u001b[0m\n\u001b[1;32m--> 171\u001b[1;33m         \u001b[1;32mif\u001b[0m \u001b[1;33m(\u001b[0m\u001b[0misinstance\u001b[0m\u001b[1;33m(\u001b[0m\u001b[0mobj\u001b[0m\u001b[1;33m,\u001b[0m \u001b[0mmatrix\u001b[0m\u001b[1;33m)\u001b[0m \u001b[1;32mand\u001b[0m \u001b[0mobj\u001b[0m\u001b[1;33m.\u001b[0m\u001b[0m_getitem\u001b[0m\u001b[1;33m)\u001b[0m\u001b[1;33m:\u001b[0m \u001b[1;32mreturn\u001b[0m\u001b[1;33m\u001b[0m\u001b[1;33m\u001b[0m\u001b[0m\n\u001b[0m\u001b[0;32m    172\u001b[0m         \u001b[0mndim\u001b[0m \u001b[1;33m=\u001b[0m \u001b[0mself\u001b[0m\u001b[1;33m.\u001b[0m\u001b[0mndim\u001b[0m\u001b[1;33m\u001b[0m\u001b[1;33m\u001b[0m\u001b[0m\n\u001b[0;32m    173\u001b[0m         \u001b[1;32mif\u001b[0m \u001b[1;33m(\u001b[0m\u001b[0mndim\u001b[0m \u001b[1;33m==\u001b[0m \u001b[1;36m2\u001b[0m\u001b[1;33m)\u001b[0m\u001b[1;33m:\u001b[0m\u001b[1;33m\u001b[0m\u001b[1;33m\u001b[0m\u001b[0m\n",
      "\u001b[1;31mKeyboardInterrupt\u001b[0m: "
     ]
    }
   ],
   "source": [
    "import pandas as pd\n",
    "import numpy as np\n",
    "from math import exp,log\n",
    "dataset=pd.read_table(r'C:\\Users\\hp\\Desktop\\机器学习\\wdbc.data',sep=',')\n",
    "dataset.loc[dataset.shape[0]]=dataset.columns#将被作为列名的数据添加到样本集中\n",
    "feature_number_int=range(1,31)\n",
    "feature_number=[]\n",
    "for i in range(len(feature_number_int)):\n",
    "    feature_number.append(\"Feature\"+str(feature_number_int[i]) )#新列名\n",
    "dataset.columns=['ID','Diagnosis']+feature_number\n",
    "standard_dataset = preprocessing.scale(dataset.iloc[:,2:])\n",
    "dataset.iloc[:,2:33]=standard_dataset\n",
    "dataset.iloc[dataset['Diagnosis']=='B',1]=1\n",
    "dataset.iloc[dataset['Diagnosis']=='M',1]=0\n",
    "dataset['changshu'] =1.0\n",
    "label=dataset.iloc[:,1]\n",
    "feature=dataset.iloc[:,2:]\n",
    "A=np.mat(feature).T\n",
    "y=np.mat(label).reshape(569,1)\n",
    "beta=np.mat([[0.1]*31]).T\n",
    "T=1000\n",
    "def get_mu(A,beta):\n",
    "    mu=[]\n",
    "    for i in range(A.shape[1]):\n",
    "        inner_product=-A[:,i].T*beta\n",
    "        if inner_product<-20:\n",
    "            inner_product=-20\n",
    "        elif inner_product>20:\n",
    "            inner_product=20\n",
    "        m=1/(1+exp(inner_product))\n",
    "        mu.append(m)\n",
    "    return np.mat(mu).T\n",
    "def get_fvalue(A,y,beta):\n",
    "    for i in range(A.shape[1]):\n",
    "        f=0\n",
    "        for i in range(A.shape[1]):\n",
    "            inner_product=A[:,i].T*beta\n",
    "            if inner_product<-20:\n",
    "                inner_product=0 \n",
    "            if inner_product>20:\n",
    "                inner_product=20\n",
    "            f+=-inner_product*y[i,0]+log(1+exp(inner_product))\n",
    "    return f\n",
    "def get_s(A,y,beta,nabla):\n",
    "    s=1\n",
    "    while(get_fvalue(A,y,beta)<get_fvalue(A,y,beta-s*nabla)):\n",
    "        s/=2\n",
    "    return s\n",
    "for i in range(T):\n",
    "    mu=get_mu(A,beta)\n",
    "    minus=mu-y\n",
    "    nabla=A*minus\n",
    "    s=get_s(A,y,beta,nabla)\n",
    "    beta=beta-s*nabla\n",
    "print(beta)"
   ]
  },
  {
   "cell_type": "markdown",
   "metadata": {},
   "source": [
    "# 3.牛顿法求解逻辑回归"
   ]
  },
  {
   "cell_type": "code",
   "execution_count": 16,
   "metadata": {},
   "outputs": [
    {
     "data": {
      "image/png": "[encoded data removed]",
      "text/plain": [
       "<Figure size 432x288 with 1 Axes>"
      ]
     },
     "metadata": {
      "needs_background": "light"
     },
     "output_type": "display_data"
    },
    {
     "name": "stdout",
     "output_type": "stream",
     "text": [
      "[[172.96632702518406]\n",
      " [-2.981951683692053]\n",
      " [-14.837259968380527]\n",
      " [-145.86314175372755]\n",
      " [-9.43194817075868]\n",
      " [27.149630038455687]\n",
      " [-18.00878429153226]\n",
      " [-13.032377809601305]\n",
      " [5.12251216989578]\n",
      " [-2.433239749638907]\n",
      " [-4.634600865053469]\n",
      " [3.6377609671311486]\n",
      " [20.06319375804454]\n",
      " [-53.56885281995248]\n",
      " [0.7532582908393172]\n",
      " [-16.482131074678847]\n",
      " [23.028213196603264]\n",
      " [-21.61984542299492]\n",
      " [7.187231309736435]\n",
      " [25.110714447343888]\n",
      " [-75.721187374234]\n",
      " [-8.027544495507398]\n",
      " [-26.336399773334197]\n",
      " [66.86664401209238]\n",
      " [4.69575568917506]\n",
      " [12.214880851357005]\n",
      " [-18.02580686567683]\n",
      " [2.182078746710893]\n",
      " [-11.550313375043462]\n",
      " [-15.782687316226719]\n",
      " [-12.544457375752199]]\n"
     ]
    }
   ],
   "source": [
    "import pandas as pd\n",
    "import numpy as np\n",
    "from math import exp\n",
    "import matplotlib.pyplot as plt\n",
    "from sklearn import preprocessing\n",
    "dataset=pd.read_table(r'C:\\Users\\hp\\Desktop\\机器学习\\wdbc.data',sep=',')\n",
    "dataset.loc[dataset.shape[0]]=dataset.columns#将被作为列名的数据添加到样本集中\n",
    "feature_number_int=range(1,31)\n",
    "feature_number=[]\n",
    "for i in range(len(feature_number_int)):\n",
    "    feature_number.append(\"Feature\"+str(feature_number_int[i]) )#新列名\n",
    "dataset.columns=['ID','Diagnosis']+feature_number\n",
    "standard_dataset = preprocessing.scale(dataset.iloc[:,2:])\n",
    "dataset.iloc[:,2:33]=standard_dataset\n",
    "dataset.iloc[dataset['Diagnosis']=='B',1]=1\n",
    "dataset.iloc[dataset['Diagnosis']=='M',1]=0\n",
    "dataset['changshu'] =1.0\n",
    "label=dataset.iloc[:,1]\n",
    "feature=dataset.iloc[:,2:]\n",
    "A=np.mat(feature).T\n",
    "y=np.mat(label).reshape(569,1)\n",
    "beta=np.mat([[-0.1]*31]).T\n",
    "def get_diag(A,beta):\n",
    "    s_mu,mu_list=[],[]\n",
    "    for i in range(A.shape[1]):\n",
    "        inner_product=float(-A[:,i].T*beta)\n",
    "        if inner_product<-10:\n",
    "            inner_product=-10\n",
    "        elif inner_product>10:\n",
    "            inner_product=10\n",
    "        mu=1/(1+exp(inner_product))\n",
    "        mu_list.append(mu)\n",
    "        s=mu*(1-mu)\n",
    "        s_mu.append(s)\n",
    "    S=np.diag(s_mu)\n",
    "    return np.mat(S),np.mat(mu_list).T\n",
    "plt.figure()\n",
    "for i in range(500):\n",
    "    S,mu=get_diag(A,beta)\n",
    "    H_0=(A*S*A.T).astype(float)\n",
    "    H=H_0.I\n",
    "    minus=mu-y\n",
    "    nabla=A*minus\n",
    "    beta=beta-0.5*H*nabla\n",
    "    plt.scatter(i,np.linalg.norm(np.array(nabla).astype(float)))\n",
    "    if np.linalg.norm(np.array(nabla).astype(float), ord=2)<= 0.2:\n",
    "         break\n",
    "plt.show()\n",
    "print(beta)"
   ]
  },
  {
   "cell_type": "markdown",
   "metadata": {},
   "source": [
    "可以直观地感受到，自己写出的梯度下降和牛顿法与第二次作业都有着不小的差距，但是梯度下降方法的结果在量级以及符号上与第二次作业大致相似，牛顿法却出现了较大的不同。由于目标函数是凸函数所以可以排除是落入了局部最小的原因，从输出的图形上看结果确实在收敛，所以猜想是在最优解附近发生震荡，为了验证这一猜想又改变了步长（从1变成了0.5），但是仍然没有很好的效果，但是与之前相比更逼近作业二的最优解，所以从一定程度上验证了这个猜想的正确性。"
   ]
  },
  {
   "cell_type": "code",
   "execution_count": null,
   "metadata": {},
   "outputs": [],
   "source": []
  }
 ],
 "metadata": {
  "kernelspec": {
   "display_name": "Pytorch",
   "language": "python",
   "name": "pytorch"
  },
  "language_info": {
   "codemirror_mode": {
    "name": "ipython",
    "version": 3
   },
   "file_extension": ".py",
   "mimetype": "text/x-python",
   "name": "python",
   "nbconvert_exporter": "python",
   "pygments_lexer": "ipython3",
   "version": "3.8.5"
  }
 },
 "nbformat": 4,
 "nbformat_minor": 4
}
